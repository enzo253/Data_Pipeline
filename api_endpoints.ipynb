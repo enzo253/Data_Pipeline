{
 "cells": [
  {
   "cell_type": "code",
   "execution_count": 15,
   "metadata": {},
   "outputs": [],
   "source": [
    "from dotenv import load_dotenv\n",
    "import requests\n",
    "import os\n",
    "from bs4 import BeautifulSoup"
   ]
  },
  {
   "cell_type": "code",
   "execution_count": 12,
   "metadata": {},
   "outputs": [],
   "source": [
    "load_dotenv()\n",
    "\n",
    "# Now you can access the API key like this:\n",
    "api_key = os.getenv(\"ALPHA_VANTAGE_API_KEY\")"
   ]
  },
  {
   "cell_type": "code",
   "execution_count": 13,
   "metadata": {},
   "outputs": [],
   "source": [
    "#def get_data():\n",
    "    #url = \"https://www.alphavantage.co/query?function=TIME_SERIES_DAILY&symbol=IBM&apikey=\" + api_key\n",
    "    #response = requests.get(url)\n",
    "    #values = response.json()\n",
    "    #print(values)\n",
    "    #return values\n",
    "#get_data()"
   ]
  },
  {
   "cell_type": "code",
   "execution_count": 16,
   "metadata": {},
   "outputs": [
    {
     "name": "stdout",
     "output_type": "stream",
     "text": [
      "✅ Found 25 articles!\n"
     ]
    }
   ],
   "source": [
    "from selenium.webdriver.common.by import By\n",
    "from selenium.webdriver.support.ui import WebDriverWait\n",
    "from selenium.webdriver.support import expected_conditions as EC\n",
    "from selenium import webdriver\n",
    "\n",
    "# Set up WebDriver\n",
    "driver = webdriver.Chrome()\n",
    "\n",
    "# Open FT.com search page\n",
    "url = \"https://www.ft.com/search?q=bitcoin&sort=relevance&isFirstView=true&dateRange=now-24h\"\n",
    "driver.get(url)\n",
    "\n",
    "# Wait for the articles to load (up to 10 seconds)\n",
    "try:\n",
    "    articles = WebDriverWait(driver, 10).until(\n",
    "        EC.presence_of_all_elements_located((By.CLASS_NAME, \"o-teaser\"))\n",
    "    )\n",
    "    print(f\"✅ Found {len(articles)} articles!\")\n",
    "except:\n",
    "    print(\"⚠️ No articles found. The page may not have loaded correctly.\")\n",
    "\n",
    "# Highlight the elements in the browser\n",
    "for article in articles:\n",
    "    driver.execute_script(\"arguments[0].style.border='3px solid red'\", article)\n",
    "\n",
    "# Keep browser open for review\n",
    "input(\"Press Enter to close...\")\n",
    "driver.quit()\n",
    "\n"
   ]
  },
  {
   "cell_type": "code",
   "execution_count": 17,
   "metadata": {},
   "outputs": [
    {
     "name": "stdout",
     "output_type": "stream",
     "text": [
      "[<selenium.webdriver.remote.webelement.WebElement (session=\"b32d2821c1ff6d133777da0546e2b8c3\", element=\"f.675C3EAEC7537EDF040AAA6EBE7770F9.d.C3493A8192E1230C804BA2DD9336E17A.e.92\")>, <selenium.webdriver.remote.webelement.WebElement (session=\"b32d2821c1ff6d133777da0546e2b8c3\", element=\"f.675C3EAEC7537EDF040AAA6EBE7770F9.d.C3493A8192E1230C804BA2DD9336E17A.e.93\")>, <selenium.webdriver.remote.webelement.WebElement (session=\"b32d2821c1ff6d133777da0546e2b8c3\", element=\"f.675C3EAEC7537EDF040AAA6EBE7770F9.d.C3493A8192E1230C804BA2DD9336E17A.e.94\")>, <selenium.webdriver.remote.webelement.WebElement (session=\"b32d2821c1ff6d133777da0546e2b8c3\", element=\"f.675C3EAEC7537EDF040AAA6EBE7770F9.d.C3493A8192E1230C804BA2DD9336E17A.e.95\")>, <selenium.webdriver.remote.webelement.WebElement (session=\"b32d2821c1ff6d133777da0546e2b8c3\", element=\"f.675C3EAEC7537EDF040AAA6EBE7770F9.d.C3493A8192E1230C804BA2DD9336E17A.e.96\")>, <selenium.webdriver.remote.webelement.WebElement (session=\"b32d2821c1ff6d133777da0546e2b8c3\", element=\"f.675C3EAEC7537EDF040AAA6EBE7770F9.d.C3493A8192E1230C804BA2DD9336E17A.e.97\")>, <selenium.webdriver.remote.webelement.WebElement (session=\"b32d2821c1ff6d133777da0546e2b8c3\", element=\"f.675C3EAEC7537EDF040AAA6EBE7770F9.d.C3493A8192E1230C804BA2DD9336E17A.e.98\")>, <selenium.webdriver.remote.webelement.WebElement (session=\"b32d2821c1ff6d133777da0546e2b8c3\", element=\"f.675C3EAEC7537EDF040AAA6EBE7770F9.d.C3493A8192E1230C804BA2DD9336E17A.e.99\")>, <selenium.webdriver.remote.webelement.WebElement (session=\"b32d2821c1ff6d133777da0546e2b8c3\", element=\"f.675C3EAEC7537EDF040AAA6EBE7770F9.d.C3493A8192E1230C804BA2DD9336E17A.e.100\")>, <selenium.webdriver.remote.webelement.WebElement (session=\"b32d2821c1ff6d133777da0546e2b8c3\", element=\"f.675C3EAEC7537EDF040AAA6EBE7770F9.d.C3493A8192E1230C804BA2DD9336E17A.e.101\")>, <selenium.webdriver.remote.webelement.WebElement (session=\"b32d2821c1ff6d133777da0546e2b8c3\", element=\"f.675C3EAEC7537EDF040AAA6EBE7770F9.d.C3493A8192E1230C804BA2DD9336E17A.e.102\")>, <selenium.webdriver.remote.webelement.WebElement (session=\"b32d2821c1ff6d133777da0546e2b8c3\", element=\"f.675C3EAEC7537EDF040AAA6EBE7770F9.d.C3493A8192E1230C804BA2DD9336E17A.e.103\")>, <selenium.webdriver.remote.webelement.WebElement (session=\"b32d2821c1ff6d133777da0546e2b8c3\", element=\"f.675C3EAEC7537EDF040AAA6EBE7770F9.d.C3493A8192E1230C804BA2DD9336E17A.e.104\")>, <selenium.webdriver.remote.webelement.WebElement (session=\"b32d2821c1ff6d133777da0546e2b8c3\", element=\"f.675C3EAEC7537EDF040AAA6EBE7770F9.d.C3493A8192E1230C804BA2DD9336E17A.e.105\")>, <selenium.webdriver.remote.webelement.WebElement (session=\"b32d2821c1ff6d133777da0546e2b8c3\", element=\"f.675C3EAEC7537EDF040AAA6EBE7770F9.d.C3493A8192E1230C804BA2DD9336E17A.e.106\")>, <selenium.webdriver.remote.webelement.WebElement (session=\"b32d2821c1ff6d133777da0546e2b8c3\", element=\"f.675C3EAEC7537EDF040AAA6EBE7770F9.d.C3493A8192E1230C804BA2DD9336E17A.e.107\")>, <selenium.webdriver.remote.webelement.WebElement (session=\"b32d2821c1ff6d133777da0546e2b8c3\", element=\"f.675C3EAEC7537EDF040AAA6EBE7770F9.d.C3493A8192E1230C804BA2DD9336E17A.e.108\")>, <selenium.webdriver.remote.webelement.WebElement (session=\"b32d2821c1ff6d133777da0546e2b8c3\", element=\"f.675C3EAEC7537EDF040AAA6EBE7770F9.d.C3493A8192E1230C804BA2DD9336E17A.e.109\")>, <selenium.webdriver.remote.webelement.WebElement (session=\"b32d2821c1ff6d133777da0546e2b8c3\", element=\"f.675C3EAEC7537EDF040AAA6EBE7770F9.d.C3493A8192E1230C804BA2DD9336E17A.e.110\")>, <selenium.webdriver.remote.webelement.WebElement (session=\"b32d2821c1ff6d133777da0546e2b8c3\", element=\"f.675C3EAEC7537EDF040AAA6EBE7770F9.d.C3493A8192E1230C804BA2DD9336E17A.e.111\")>, <selenium.webdriver.remote.webelement.WebElement (session=\"b32d2821c1ff6d133777da0546e2b8c3\", element=\"f.675C3EAEC7537EDF040AAA6EBE7770F9.d.C3493A8192E1230C804BA2DD9336E17A.e.112\")>, <selenium.webdriver.remote.webelement.WebElement (session=\"b32d2821c1ff6d133777da0546e2b8c3\", element=\"f.675C3EAEC7537EDF040AAA6EBE7770F9.d.C3493A8192E1230C804BA2DD9336E17A.e.113\")>, <selenium.webdriver.remote.webelement.WebElement (session=\"b32d2821c1ff6d133777da0546e2b8c3\", element=\"f.675C3EAEC7537EDF040AAA6EBE7770F9.d.C3493A8192E1230C804BA2DD9336E17A.e.114\")>, <selenium.webdriver.remote.webelement.WebElement (session=\"b32d2821c1ff6d133777da0546e2b8c3\", element=\"f.675C3EAEC7537EDF040AAA6EBE7770F9.d.C3493A8192E1230C804BA2DD9336E17A.e.115\")>, <selenium.webdriver.remote.webelement.WebElement (session=\"b32d2821c1ff6d133777da0546e2b8c3\", element=\"f.675C3EAEC7537EDF040AAA6EBE7770F9.d.C3493A8192E1230C804BA2DD9336E17A.e.116\")>]\n"
     ]
    }
   ],
   "source": [
    "print(articles)"
   ]
  }
 ],
 "metadata": {
  "kernelspec": {
   "display_name": "geopandas",
   "language": "python",
   "name": "python3"
  },
  "language_info": {
   "codemirror_mode": {
    "name": "ipython",
    "version": 3
   },
   "file_extension": ".py",
   "mimetype": "text/x-python",
   "name": "python",
   "nbconvert_exporter": "python",
   "pygments_lexer": "ipython3",
   "version": "3.12.7"
  },
  "orig_nbformat": 4
 },
 "nbformat": 4,
 "nbformat_minor": 2
}
