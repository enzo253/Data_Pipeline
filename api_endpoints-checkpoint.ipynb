{
 "cells": [
  {
   "cell_type": "code",
   "execution_count": 1,
   "metadata": {},
   "outputs": [],
   "source": [
    "import requests \n",
    "import os"
   ]
  },
  {
   "cell_type": "code",
   "execution_count": 2,
   "metadata": {},
   "outputs": [],
   "source": [
    "api_key = os.getenv(\"ALPHA_VANTAGE_API_KEY\")"
   ]
  },
  {
   "cell_type": "code",
   "execution_count": 3,
   "metadata": {},
   "outputs": [
    {
     "name": "stdout",
     "output_type": "stream",
     "text": [
      "None\n"
     ]
    }
   ],
   "source": [
    "print(api_key)"
   ]
  },
  {
   "cell_type": "code",
   "execution_count": 4,
   "metadata": {},
   "outputs": [
    {
     "ename": "TypeError",
     "evalue": "can only concatenate str (not \"NoneType\") to str",
     "output_type": "error",
     "traceback": [
      "\u001b[0;31m---------------------------------------------------------------------------\u001b[0m",
      "\u001b[0;31mTypeError\u001b[0m                                 Traceback (most recent call last)",
      "Cell \u001b[0;32mIn[4], line 7\u001b[0m\n\u001b[1;32m      5\u001b[0m     \u001b[39mprint\u001b[39m(values)\n\u001b[1;32m      6\u001b[0m     \u001b[39mreturn\u001b[39;00m values\n\u001b[0;32m----> 7\u001b[0m get_data()\n",
      "Cell \u001b[0;32mIn[4], line 2\u001b[0m, in \u001b[0;36mget_data\u001b[0;34m()\u001b[0m\n\u001b[1;32m      1\u001b[0m \u001b[39mdef\u001b[39;00m \u001b[39mget_data\u001b[39m():\n\u001b[0;32m----> 2\u001b[0m     url \u001b[39m=\u001b[39m \u001b[39m\"\u001b[39;49m\u001b[39mhttps://www.alphavantage.co/query?function=TIME_SERIES_DAILY&symbol=IBM&apikey=\u001b[39;49m\u001b[39m\"\u001b[39;49m \u001b[39m+\u001b[39;49m api_key\n\u001b[1;32m      3\u001b[0m     response \u001b[39m=\u001b[39m requests\u001b[39m.\u001b[39mget(url)\n\u001b[1;32m      4\u001b[0m     values \u001b[39m=\u001b[39m response\u001b[39m.\u001b[39mjson()\n",
      "\u001b[0;31mTypeError\u001b[0m: can only concatenate str (not \"NoneType\") to str"
     ]
    }
   ],
   "source": [
    "def get_data():\n",
    "    url = \"https://www.alphavantage.co/query?function=TIME_SERIES_DAILY&symbol=IBM&apikey=\" + api_key\n",
    "    response = requests.get(url)\n",
    "    values = response.json()\n",
    "    print(values)\n",
    "    return values\n",
    "get_data()"
   ]
  }
 ],
 "metadata": {
  "kernelspec": {
   "display_name": "geopandas",
   "language": "python",
   "name": "python3"
  },
  "language_info": {
   "codemirror_mode": {
    "name": "ipython",
    "version": 3
   },
   "file_extension": ".py",
   "mimetype": "text/x-python",
   "name": "python",
   "nbconvert_exporter": "python",
   "pygments_lexer": "ipython3",
   "version": "3.12.7"
  },
  "orig_nbformat": 4
 },
 "nbformat": 4,
 "nbformat_minor": 2
}
